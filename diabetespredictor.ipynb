{
  "nbformat": 4,
  "nbformat_minor": 0,
  "metadata": {
    "colab": {
      "provenance": []
    },
    "kernelspec": {
      "name": "python3",
      "display_name": "Python 3"
    },
    "language_info": {
      "name": "python"
    }
  },
  "cells": [
    {
      "cell_type": "code",
      "execution_count": 10,
      "metadata": {
        "id": "0n1g0oLFjIRD"
      },
      "outputs": [],
      "source": [
        "import numpy as np\n",
        "import pandas as pd\n",
        "from sklearn.model_selection import train_test_split\n",
        "from sklearn.metrics import accuracy_score\n",
        "from sklearn.linear_model import LogisticRegression\n",
        "columns = ['Pregnancies', 'Glucose', 'BloodPressure', 'SkinThickness', 'Insulin', 'BMI', 'DiabetesPedigreeFunction', 'Age', 'Outcome']\n",
        "data=pd.read_csv('/content/diabetes.csv')\n",
        "X=data.drop(columns='Outcome',axis=1)\n",
        "Y=data['Outcome']\n"
      ]
    },
    {
      "cell_type": "code",
      "source": [
        "X_train,X_test,Y_train,Y_test=train_test_split(X,Y,test_size=0.1,random_state=3,stratify=Y)\n",
        "model=LogisticRegression(max_iter=1000)\n",
        "model.fit(X_train,Y_train)\n",
        "prediction=model.predict(X_test)\n",
        "accuracy=accuracy_score(prediction,Y_test)\n",
        "print(accuracy*100)\n"
      ],
      "metadata": {
        "colab": {
          "base_uri": "https://localhost:8080/"
        },
        "id": "DQdHmOzZmnVe",
        "outputId": "d54984ef-95bb-4624-bc0b-d58bd2d612d2"
      },
      "execution_count": 16,
      "outputs": [
        {
          "output_type": "stream",
          "name": "stdout",
          "text": [
            "83.11688311688312\n"
          ]
        }
      ]
    }
  ]
}